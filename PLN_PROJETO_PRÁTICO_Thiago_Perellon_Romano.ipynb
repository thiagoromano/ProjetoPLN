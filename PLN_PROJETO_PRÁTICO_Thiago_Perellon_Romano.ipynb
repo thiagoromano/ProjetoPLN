{
  "cells": [
    {
      "cell_type": "markdown",
      "source": [
        "### **EQUIPE**\n",
        "\n",
        "---"
      ],
      "metadata": {
        "id": "3_LD6l1NTQyK"
      }
    },
    {
      "cell_type": "markdown",
      "source": [
        "**POR FAVOR, PREENCHER OS INTEGRANDES DA SUA EQUIPE:**\n",
        "\n",
        "\n",
        "**Integrante 01:**\n",
        "\n",
        "`Por favor, informe o seu nome completo e RA:`\n",
        "\n",
        "Thiago Perellon Romano - 11202130849\n"
      ],
      "metadata": {
        "id": "vBnv6HUITVBX"
      }
    },
    {
      "cell_type": "markdown",
      "source": [
        "### **GRANDE MODELO DE LINGUAGEM (*Large Language Model - LLM*)**\n",
        "\n",
        "---"
      ],
      "metadata": {
        "id": "eehF5xadTeKA"
      }
    },
    {
      "cell_type": "markdown",
      "source": [
        "Cada equipe deve selecionar um Grande Modelo de Linguagem (*Large Language Model - LLM*). Cada modelo pode ser escolhido por até 5 equipes.\n",
        "\n"
      ],
      "metadata": {
        "id": "mzwUhT9-TfvI"
      }
    },
    {
      "cell_type": "markdown",
      "source": [
        "Por favor, informe os dados do LLM selecionada:\n",
        "\n",
        ">\n",
        "\n",
        "\n",
        "**LLM**: Groq (llama-3.1)\n",
        "\n",
        ">\n",
        "\n",
        "**Link para a documentação oficial**: https://console.groq.com/docs/quickstart\n",
        "\n"
      ],
      "metadata": {
        "id": "D-7mlnNkTk1n"
      }
    },
    {
      "cell_type": "markdown",
      "source": [
        "### **API**\n",
        "---"
      ],
      "metadata": {
        "id": "oz76FLS6Twwn"
      }
    },
    {
      "cell_type": "markdown",
      "source": [
        "Por favor, informe os dados da API selecionada:\n",
        "\n",
        "**API**: NewsAPI\n",
        "\n",
        "**Site oficial**: https://newsapi.org/\n",
        "\n",
        "**Link para a documentação oficial**: https://newsapi.org/docs\n",
        "\n",
        "\n",
        "\n",
        "\n"
      ],
      "metadata": {
        "id": "n8I9fI4KTyTO"
      }
    },
    {
      "cell_type": "markdown",
      "source": [
        "As seguintes técnicas de PLN foram usadas:\n",
        "\n",
        "*   Classificação de Textos\n",
        "*   Extração de Palavras-chave\n",
        "*   Tradução de Textos\n",
        "*   Sumarização de Textos\n",
        "\n"
      ],
      "metadata": {
        "id": "ukOXUdPwT6sW"
      }
    },
    {
      "cell_type": "markdown",
      "source": [
        "#Instalação dos pacotes necessários"
      ],
      "metadata": {
        "id": "Dj39xrwW8tno"
      }
    },
    {
      "cell_type": "code",
      "execution_count": 19,
      "metadata": {
        "colab": {
          "base_uri": "https://localhost:8080/"
        },
        "collapsed": true,
        "id": "5etWwcF_XQp0",
        "outputId": "bc731935-d8c6-48d2-b060-76ebbb9372b1"
      },
      "outputs": [
        {
          "output_type": "stream",
          "name": "stdout",
          "text": [
            "Requirement already satisfied: langchain in /usr/local/lib/python3.10/dist-packages (0.2.16)\n",
            "Requirement already satisfied: PyYAML>=5.3 in /usr/local/lib/python3.10/dist-packages (from langchain) (6.0.2)\n",
            "Requirement already satisfied: SQLAlchemy<3,>=1.4 in /usr/local/lib/python3.10/dist-packages (from langchain) (2.0.32)\n",
            "Requirement already satisfied: aiohttp<4.0.0,>=3.8.3 in /usr/local/lib/python3.10/dist-packages (from langchain) (3.10.5)\n",
            "Requirement already satisfied: async-timeout<5.0.0,>=4.0.0 in /usr/local/lib/python3.10/dist-packages (from langchain) (4.0.3)\n",
            "Requirement already satisfied: langchain-core<0.3.0,>=0.2.38 in /usr/local/lib/python3.10/dist-packages (from langchain) (0.2.38)\n",
            "Requirement already satisfied: langchain-text-splitters<0.3.0,>=0.2.0 in /usr/local/lib/python3.10/dist-packages (from langchain) (0.2.4)\n",
            "Requirement already satisfied: langsmith<0.2.0,>=0.1.17 in /usr/local/lib/python3.10/dist-packages (from langchain) (0.1.116)\n",
            "Requirement already satisfied: numpy<2,>=1 in /usr/local/lib/python3.10/dist-packages (from langchain) (1.26.4)\n",
            "Requirement already satisfied: pydantic<3,>=1 in /usr/local/lib/python3.10/dist-packages (from langchain) (2.8.2)\n",
            "Requirement already satisfied: requests<3,>=2 in /usr/local/lib/python3.10/dist-packages (from langchain) (2.32.3)\n",
            "Requirement already satisfied: tenacity!=8.4.0,<9.0.0,>=8.1.0 in /usr/local/lib/python3.10/dist-packages (from langchain) (8.5.0)\n",
            "Requirement already satisfied: aiohappyeyeballs>=2.3.0 in /usr/local/lib/python3.10/dist-packages (from aiohttp<4.0.0,>=3.8.3->langchain) (2.4.0)\n",
            "Requirement already satisfied: aiosignal>=1.1.2 in /usr/local/lib/python3.10/dist-packages (from aiohttp<4.0.0,>=3.8.3->langchain) (1.3.1)\n",
            "Requirement already satisfied: attrs>=17.3.0 in /usr/local/lib/python3.10/dist-packages (from aiohttp<4.0.0,>=3.8.3->langchain) (24.2.0)\n",
            "Requirement already satisfied: frozenlist>=1.1.1 in /usr/local/lib/python3.10/dist-packages (from aiohttp<4.0.0,>=3.8.3->langchain) (1.4.1)\n",
            "Requirement already satisfied: multidict<7.0,>=4.5 in /usr/local/lib/python3.10/dist-packages (from aiohttp<4.0.0,>=3.8.3->langchain) (6.0.5)\n",
            "Requirement already satisfied: yarl<2.0,>=1.0 in /usr/local/lib/python3.10/dist-packages (from aiohttp<4.0.0,>=3.8.3->langchain) (1.9.4)\n",
            "Requirement already satisfied: jsonpatch<2.0,>=1.33 in /usr/local/lib/python3.10/dist-packages (from langchain-core<0.3.0,>=0.2.38->langchain) (1.33)\n",
            "Requirement already satisfied: packaging<25,>=23.2 in /usr/local/lib/python3.10/dist-packages (from langchain-core<0.3.0,>=0.2.38->langchain) (24.1)\n",
            "Requirement already satisfied: typing-extensions>=4.7 in /usr/local/lib/python3.10/dist-packages (from langchain-core<0.3.0,>=0.2.38->langchain) (4.12.2)\n",
            "Requirement already satisfied: httpx<1,>=0.23.0 in /usr/local/lib/python3.10/dist-packages (from langsmith<0.2.0,>=0.1.17->langchain) (0.27.2)\n",
            "Requirement already satisfied: orjson<4.0.0,>=3.9.14 in /usr/local/lib/python3.10/dist-packages (from langsmith<0.2.0,>=0.1.17->langchain) (3.10.7)\n",
            "Requirement already satisfied: annotated-types>=0.4.0 in /usr/local/lib/python3.10/dist-packages (from pydantic<3,>=1->langchain) (0.7.0)\n",
            "Requirement already satisfied: pydantic-core==2.20.1 in /usr/local/lib/python3.10/dist-packages (from pydantic<3,>=1->langchain) (2.20.1)\n",
            "Requirement already satisfied: charset-normalizer<4,>=2 in /usr/local/lib/python3.10/dist-packages (from requests<3,>=2->langchain) (3.3.2)\n",
            "Requirement already satisfied: idna<4,>=2.5 in /usr/local/lib/python3.10/dist-packages (from requests<3,>=2->langchain) (3.8)\n",
            "Requirement already satisfied: urllib3<3,>=1.21.1 in /usr/local/lib/python3.10/dist-packages (from requests<3,>=2->langchain) (2.0.7)\n",
            "Requirement already satisfied: certifi>=2017.4.17 in /usr/local/lib/python3.10/dist-packages (from requests<3,>=2->langchain) (2024.8.30)\n",
            "Requirement already satisfied: greenlet!=0.4.17 in /usr/local/lib/python3.10/dist-packages (from SQLAlchemy<3,>=1.4->langchain) (3.0.3)\n",
            "Requirement already satisfied: anyio in /usr/local/lib/python3.10/dist-packages (from httpx<1,>=0.23.0->langsmith<0.2.0,>=0.1.17->langchain) (3.7.1)\n",
            "Requirement already satisfied: httpcore==1.* in /usr/local/lib/python3.10/dist-packages (from httpx<1,>=0.23.0->langsmith<0.2.0,>=0.1.17->langchain) (1.0.5)\n",
            "Requirement already satisfied: sniffio in /usr/local/lib/python3.10/dist-packages (from httpx<1,>=0.23.0->langsmith<0.2.0,>=0.1.17->langchain) (1.3.1)\n",
            "Requirement already satisfied: h11<0.15,>=0.13 in /usr/local/lib/python3.10/dist-packages (from httpcore==1.*->httpx<1,>=0.23.0->langsmith<0.2.0,>=0.1.17->langchain) (0.14.0)\n",
            "Requirement already satisfied: jsonpointer>=1.9 in /usr/local/lib/python3.10/dist-packages (from jsonpatch<2.0,>=1.33->langchain-core<0.3.0,>=0.2.38->langchain) (3.0.0)\n",
            "Requirement already satisfied: exceptiongroup in /usr/local/lib/python3.10/dist-packages (from anyio->httpx<1,>=0.23.0->langsmith<0.2.0,>=0.1.17->langchain) (1.2.2)\n",
            "Requirement already satisfied: langchain-groq in /usr/local/lib/python3.10/dist-packages (0.1.9)\n",
            "Requirement already satisfied: groq<1,>=0.4.1 in /usr/local/lib/python3.10/dist-packages (from langchain-groq) (0.11.0)\n",
            "Requirement already satisfied: langchain-core<0.3.0,>=0.2.26 in /usr/local/lib/python3.10/dist-packages (from langchain-groq) (0.2.38)\n",
            "Requirement already satisfied: anyio<5,>=3.5.0 in /usr/local/lib/python3.10/dist-packages (from groq<1,>=0.4.1->langchain-groq) (3.7.1)\n",
            "Requirement already satisfied: distro<2,>=1.7.0 in /usr/lib/python3/dist-packages (from groq<1,>=0.4.1->langchain-groq) (1.7.0)\n",
            "Requirement already satisfied: httpx<1,>=0.23.0 in /usr/local/lib/python3.10/dist-packages (from groq<1,>=0.4.1->langchain-groq) (0.27.2)\n",
            "Requirement already satisfied: pydantic<3,>=1.9.0 in /usr/local/lib/python3.10/dist-packages (from groq<1,>=0.4.1->langchain-groq) (2.8.2)\n",
            "Requirement already satisfied: sniffio in /usr/local/lib/python3.10/dist-packages (from groq<1,>=0.4.1->langchain-groq) (1.3.1)\n",
            "Requirement already satisfied: typing-extensions<5,>=4.7 in /usr/local/lib/python3.10/dist-packages (from groq<1,>=0.4.1->langchain-groq) (4.12.2)\n",
            "Requirement already satisfied: PyYAML>=5.3 in /usr/local/lib/python3.10/dist-packages (from langchain-core<0.3.0,>=0.2.26->langchain-groq) (6.0.2)\n",
            "Requirement already satisfied: jsonpatch<2.0,>=1.33 in /usr/local/lib/python3.10/dist-packages (from langchain-core<0.3.0,>=0.2.26->langchain-groq) (1.33)\n",
            "Requirement already satisfied: langsmith<0.2.0,>=0.1.75 in /usr/local/lib/python3.10/dist-packages (from langchain-core<0.3.0,>=0.2.26->langchain-groq) (0.1.116)\n",
            "Requirement already satisfied: packaging<25,>=23.2 in /usr/local/lib/python3.10/dist-packages (from langchain-core<0.3.0,>=0.2.26->langchain-groq) (24.1)\n",
            "Requirement already satisfied: tenacity!=8.4.0,<9.0.0,>=8.1.0 in /usr/local/lib/python3.10/dist-packages (from langchain-core<0.3.0,>=0.2.26->langchain-groq) (8.5.0)\n",
            "Requirement already satisfied: idna>=2.8 in /usr/local/lib/python3.10/dist-packages (from anyio<5,>=3.5.0->groq<1,>=0.4.1->langchain-groq) (3.8)\n",
            "Requirement already satisfied: exceptiongroup in /usr/local/lib/python3.10/dist-packages (from anyio<5,>=3.5.0->groq<1,>=0.4.1->langchain-groq) (1.2.2)\n",
            "Requirement already satisfied: certifi in /usr/local/lib/python3.10/dist-packages (from httpx<1,>=0.23.0->groq<1,>=0.4.1->langchain-groq) (2024.8.30)\n",
            "Requirement already satisfied: httpcore==1.* in /usr/local/lib/python3.10/dist-packages (from httpx<1,>=0.23.0->groq<1,>=0.4.1->langchain-groq) (1.0.5)\n",
            "Requirement already satisfied: h11<0.15,>=0.13 in /usr/local/lib/python3.10/dist-packages (from httpcore==1.*->httpx<1,>=0.23.0->groq<1,>=0.4.1->langchain-groq) (0.14.0)\n",
            "Requirement already satisfied: jsonpointer>=1.9 in /usr/local/lib/python3.10/dist-packages (from jsonpatch<2.0,>=1.33->langchain-core<0.3.0,>=0.2.26->langchain-groq) (3.0.0)\n",
            "Requirement already satisfied: orjson<4.0.0,>=3.9.14 in /usr/local/lib/python3.10/dist-packages (from langsmith<0.2.0,>=0.1.75->langchain-core<0.3.0,>=0.2.26->langchain-groq) (3.10.7)\n",
            "Requirement already satisfied: requests<3,>=2 in /usr/local/lib/python3.10/dist-packages (from langsmith<0.2.0,>=0.1.75->langchain-core<0.3.0,>=0.2.26->langchain-groq) (2.32.3)\n",
            "Requirement already satisfied: annotated-types>=0.4.0 in /usr/local/lib/python3.10/dist-packages (from pydantic<3,>=1.9.0->groq<1,>=0.4.1->langchain-groq) (0.7.0)\n",
            "Requirement already satisfied: pydantic-core==2.20.1 in /usr/local/lib/python3.10/dist-packages (from pydantic<3,>=1.9.0->groq<1,>=0.4.1->langchain-groq) (2.20.1)\n",
            "Requirement already satisfied: charset-normalizer<4,>=2 in /usr/local/lib/python3.10/dist-packages (from requests<3,>=2->langsmith<0.2.0,>=0.1.75->langchain-core<0.3.0,>=0.2.26->langchain-groq) (3.3.2)\n",
            "Requirement already satisfied: urllib3<3,>=1.21.1 in /usr/local/lib/python3.10/dist-packages (from requests<3,>=2->langsmith<0.2.0,>=0.1.75->langchain-core<0.3.0,>=0.2.26->langchain-groq) (2.0.7)\n",
            "Requirement already satisfied: langchainhub in /usr/local/lib/python3.10/dist-packages (0.1.21)\n",
            "Requirement already satisfied: packaging<25,>=23.2 in /usr/local/lib/python3.10/dist-packages (from langchainhub) (24.1)\n",
            "Requirement already satisfied: requests<3,>=2 in /usr/local/lib/python3.10/dist-packages (from langchainhub) (2.32.3)\n",
            "Requirement already satisfied: types-requests<3.0.0.0,>=2.31.0.2 in /usr/local/lib/python3.10/dist-packages (from langchainhub) (2.32.0.20240907)\n",
            "Requirement already satisfied: charset-normalizer<4,>=2 in /usr/local/lib/python3.10/dist-packages (from requests<3,>=2->langchainhub) (3.3.2)\n",
            "Requirement already satisfied: idna<4,>=2.5 in /usr/local/lib/python3.10/dist-packages (from requests<3,>=2->langchainhub) (3.8)\n",
            "Requirement already satisfied: urllib3<3,>=1.21.1 in /usr/local/lib/python3.10/dist-packages (from requests<3,>=2->langchainhub) (2.0.7)\n",
            "Requirement already satisfied: certifi>=2017.4.17 in /usr/local/lib/python3.10/dist-packages (from requests<3,>=2->langchainhub) (2024.8.30)\n",
            "Requirement already satisfied: langchain_community in /usr/local/lib/python3.10/dist-packages (0.2.16)\n",
            "Requirement already satisfied: PyYAML>=5.3 in /usr/local/lib/python3.10/dist-packages (from langchain_community) (6.0.2)\n",
            "Requirement already satisfied: SQLAlchemy<3,>=1.4 in /usr/local/lib/python3.10/dist-packages (from langchain_community) (2.0.32)\n",
            "Requirement already satisfied: aiohttp<4.0.0,>=3.8.3 in /usr/local/lib/python3.10/dist-packages (from langchain_community) (3.10.5)\n",
            "Requirement already satisfied: dataclasses-json<0.7,>=0.5.7 in /usr/local/lib/python3.10/dist-packages (from langchain_community) (0.6.7)\n",
            "Requirement already satisfied: langchain<0.3.0,>=0.2.16 in /usr/local/lib/python3.10/dist-packages (from langchain_community) (0.2.16)\n",
            "Requirement already satisfied: langchain-core<0.3.0,>=0.2.38 in /usr/local/lib/python3.10/dist-packages (from langchain_community) (0.2.38)\n",
            "Requirement already satisfied: langsmith<0.2.0,>=0.1.0 in /usr/local/lib/python3.10/dist-packages (from langchain_community) (0.1.116)\n",
            "Requirement already satisfied: numpy<2,>=1 in /usr/local/lib/python3.10/dist-packages (from langchain_community) (1.26.4)\n",
            "Requirement already satisfied: requests<3,>=2 in /usr/local/lib/python3.10/dist-packages (from langchain_community) (2.32.3)\n",
            "Requirement already satisfied: tenacity!=8.4.0,<9.0.0,>=8.1.0 in /usr/local/lib/python3.10/dist-packages (from langchain_community) (8.5.0)\n",
            "Requirement already satisfied: aiohappyeyeballs>=2.3.0 in /usr/local/lib/python3.10/dist-packages (from aiohttp<4.0.0,>=3.8.3->langchain_community) (2.4.0)\n",
            "Requirement already satisfied: aiosignal>=1.1.2 in /usr/local/lib/python3.10/dist-packages (from aiohttp<4.0.0,>=3.8.3->langchain_community) (1.3.1)\n",
            "Requirement already satisfied: attrs>=17.3.0 in /usr/local/lib/python3.10/dist-packages (from aiohttp<4.0.0,>=3.8.3->langchain_community) (24.2.0)\n",
            "Requirement already satisfied: frozenlist>=1.1.1 in /usr/local/lib/python3.10/dist-packages (from aiohttp<4.0.0,>=3.8.3->langchain_community) (1.4.1)\n",
            "Requirement already satisfied: multidict<7.0,>=4.5 in /usr/local/lib/python3.10/dist-packages (from aiohttp<4.0.0,>=3.8.3->langchain_community) (6.0.5)\n",
            "Requirement already satisfied: yarl<2.0,>=1.0 in /usr/local/lib/python3.10/dist-packages (from aiohttp<4.0.0,>=3.8.3->langchain_community) (1.9.4)\n",
            "Requirement already satisfied: async-timeout<5.0,>=4.0 in /usr/local/lib/python3.10/dist-packages (from aiohttp<4.0.0,>=3.8.3->langchain_community) (4.0.3)\n",
            "Requirement already satisfied: marshmallow<4.0.0,>=3.18.0 in /usr/local/lib/python3.10/dist-packages (from dataclasses-json<0.7,>=0.5.7->langchain_community) (3.22.0)\n",
            "Requirement already satisfied: typing-inspect<1,>=0.4.0 in /usr/local/lib/python3.10/dist-packages (from dataclasses-json<0.7,>=0.5.7->langchain_community) (0.9.0)\n",
            "Requirement already satisfied: langchain-text-splitters<0.3.0,>=0.2.0 in /usr/local/lib/python3.10/dist-packages (from langchain<0.3.0,>=0.2.16->langchain_community) (0.2.4)\n",
            "Requirement already satisfied: pydantic<3,>=1 in /usr/local/lib/python3.10/dist-packages (from langchain<0.3.0,>=0.2.16->langchain_community) (2.8.2)\n",
            "Requirement already satisfied: jsonpatch<2.0,>=1.33 in /usr/local/lib/python3.10/dist-packages (from langchain-core<0.3.0,>=0.2.38->langchain_community) (1.33)\n",
            "Requirement already satisfied: packaging<25,>=23.2 in /usr/local/lib/python3.10/dist-packages (from langchain-core<0.3.0,>=0.2.38->langchain_community) (24.1)\n",
            "Requirement already satisfied: typing-extensions>=4.7 in /usr/local/lib/python3.10/dist-packages (from langchain-core<0.3.0,>=0.2.38->langchain_community) (4.12.2)\n",
            "Requirement already satisfied: httpx<1,>=0.23.0 in /usr/local/lib/python3.10/dist-packages (from langsmith<0.2.0,>=0.1.0->langchain_community) (0.27.2)\n",
            "Requirement already satisfied: orjson<4.0.0,>=3.9.14 in /usr/local/lib/python3.10/dist-packages (from langsmith<0.2.0,>=0.1.0->langchain_community) (3.10.7)\n",
            "Requirement already satisfied: charset-normalizer<4,>=2 in /usr/local/lib/python3.10/dist-packages (from requests<3,>=2->langchain_community) (3.3.2)\n",
            "Requirement already satisfied: idna<4,>=2.5 in /usr/local/lib/python3.10/dist-packages (from requests<3,>=2->langchain_community) (3.8)\n",
            "Requirement already satisfied: urllib3<3,>=1.21.1 in /usr/local/lib/python3.10/dist-packages (from requests<3,>=2->langchain_community) (2.0.7)\n",
            "Requirement already satisfied: certifi>=2017.4.17 in /usr/local/lib/python3.10/dist-packages (from requests<3,>=2->langchain_community) (2024.8.30)\n",
            "Requirement already satisfied: greenlet!=0.4.17 in /usr/local/lib/python3.10/dist-packages (from SQLAlchemy<3,>=1.4->langchain_community) (3.0.3)\n",
            "Requirement already satisfied: anyio in /usr/local/lib/python3.10/dist-packages (from httpx<1,>=0.23.0->langsmith<0.2.0,>=0.1.0->langchain_community) (3.7.1)\n",
            "Requirement already satisfied: httpcore==1.* in /usr/local/lib/python3.10/dist-packages (from httpx<1,>=0.23.0->langsmith<0.2.0,>=0.1.0->langchain_community) (1.0.5)\n",
            "Requirement already satisfied: sniffio in /usr/local/lib/python3.10/dist-packages (from httpx<1,>=0.23.0->langsmith<0.2.0,>=0.1.0->langchain_community) (1.3.1)\n",
            "Requirement already satisfied: h11<0.15,>=0.13 in /usr/local/lib/python3.10/dist-packages (from httpcore==1.*->httpx<1,>=0.23.0->langsmith<0.2.0,>=0.1.0->langchain_community) (0.14.0)\n",
            "Requirement already satisfied: jsonpointer>=1.9 in /usr/local/lib/python3.10/dist-packages (from jsonpatch<2.0,>=1.33->langchain-core<0.3.0,>=0.2.38->langchain_community) (3.0.0)\n",
            "Requirement already satisfied: annotated-types>=0.4.0 in /usr/local/lib/python3.10/dist-packages (from pydantic<3,>=1->langchain<0.3.0,>=0.2.16->langchain_community) (0.7.0)\n",
            "Requirement already satisfied: pydantic-core==2.20.1 in /usr/local/lib/python3.10/dist-packages (from pydantic<3,>=1->langchain<0.3.0,>=0.2.16->langchain_community) (2.20.1)\n",
            "Requirement already satisfied: mypy-extensions>=0.3.0 in /usr/local/lib/python3.10/dist-packages (from typing-inspect<1,>=0.4.0->dataclasses-json<0.7,>=0.5.7->langchain_community) (1.0.0)\n",
            "Requirement already satisfied: exceptiongroup in /usr/local/lib/python3.10/dist-packages (from anyio->httpx<1,>=0.23.0->langsmith<0.2.0,>=0.1.0->langchain_community) (1.2.2)\n",
            "Requirement already satisfied: langchain-text-splitters in /usr/local/lib/python3.10/dist-packages (0.2.4)\n",
            "Requirement already satisfied: langchain-core<0.3.0,>=0.2.38 in /usr/local/lib/python3.10/dist-packages (from langchain-text-splitters) (0.2.38)\n",
            "Requirement already satisfied: PyYAML>=5.3 in /usr/local/lib/python3.10/dist-packages (from langchain-core<0.3.0,>=0.2.38->langchain-text-splitters) (6.0.2)\n",
            "Requirement already satisfied: jsonpatch<2.0,>=1.33 in /usr/local/lib/python3.10/dist-packages (from langchain-core<0.3.0,>=0.2.38->langchain-text-splitters) (1.33)\n",
            "Requirement already satisfied: langsmith<0.2.0,>=0.1.75 in /usr/local/lib/python3.10/dist-packages (from langchain-core<0.3.0,>=0.2.38->langchain-text-splitters) (0.1.116)\n",
            "Requirement already satisfied: packaging<25,>=23.2 in /usr/local/lib/python3.10/dist-packages (from langchain-core<0.3.0,>=0.2.38->langchain-text-splitters) (24.1)\n",
            "Requirement already satisfied: pydantic<3,>=1 in /usr/local/lib/python3.10/dist-packages (from langchain-core<0.3.0,>=0.2.38->langchain-text-splitters) (2.8.2)\n",
            "Requirement already satisfied: tenacity!=8.4.0,<9.0.0,>=8.1.0 in /usr/local/lib/python3.10/dist-packages (from langchain-core<0.3.0,>=0.2.38->langchain-text-splitters) (8.5.0)\n",
            "Requirement already satisfied: typing-extensions>=4.7 in /usr/local/lib/python3.10/dist-packages (from langchain-core<0.3.0,>=0.2.38->langchain-text-splitters) (4.12.2)\n",
            "Requirement already satisfied: jsonpointer>=1.9 in /usr/local/lib/python3.10/dist-packages (from jsonpatch<2.0,>=1.33->langchain-core<0.3.0,>=0.2.38->langchain-text-splitters) (3.0.0)\n",
            "Requirement already satisfied: httpx<1,>=0.23.0 in /usr/local/lib/python3.10/dist-packages (from langsmith<0.2.0,>=0.1.75->langchain-core<0.3.0,>=0.2.38->langchain-text-splitters) (0.27.2)\n",
            "Requirement already satisfied: orjson<4.0.0,>=3.9.14 in /usr/local/lib/python3.10/dist-packages (from langsmith<0.2.0,>=0.1.75->langchain-core<0.3.0,>=0.2.38->langchain-text-splitters) (3.10.7)\n",
            "Requirement already satisfied: requests<3,>=2 in /usr/local/lib/python3.10/dist-packages (from langsmith<0.2.0,>=0.1.75->langchain-core<0.3.0,>=0.2.38->langchain-text-splitters) (2.32.3)\n",
            "Requirement already satisfied: annotated-types>=0.4.0 in /usr/local/lib/python3.10/dist-packages (from pydantic<3,>=1->langchain-core<0.3.0,>=0.2.38->langchain-text-splitters) (0.7.0)\n",
            "Requirement already satisfied: pydantic-core==2.20.1 in /usr/local/lib/python3.10/dist-packages (from pydantic<3,>=1->langchain-core<0.3.0,>=0.2.38->langchain-text-splitters) (2.20.1)\n",
            "Requirement already satisfied: anyio in /usr/local/lib/python3.10/dist-packages (from httpx<1,>=0.23.0->langsmith<0.2.0,>=0.1.75->langchain-core<0.3.0,>=0.2.38->langchain-text-splitters) (3.7.1)\n",
            "Requirement already satisfied: certifi in /usr/local/lib/python3.10/dist-packages (from httpx<1,>=0.23.0->langsmith<0.2.0,>=0.1.75->langchain-core<0.3.0,>=0.2.38->langchain-text-splitters) (2024.8.30)\n",
            "Requirement already satisfied: httpcore==1.* in /usr/local/lib/python3.10/dist-packages (from httpx<1,>=0.23.0->langsmith<0.2.0,>=0.1.75->langchain-core<0.3.0,>=0.2.38->langchain-text-splitters) (1.0.5)\n",
            "Requirement already satisfied: idna in /usr/local/lib/python3.10/dist-packages (from httpx<1,>=0.23.0->langsmith<0.2.0,>=0.1.75->langchain-core<0.3.0,>=0.2.38->langchain-text-splitters) (3.8)\n",
            "Requirement already satisfied: sniffio in /usr/local/lib/python3.10/dist-packages (from httpx<1,>=0.23.0->langsmith<0.2.0,>=0.1.75->langchain-core<0.3.0,>=0.2.38->langchain-text-splitters) (1.3.1)\n",
            "Requirement already satisfied: h11<0.15,>=0.13 in /usr/local/lib/python3.10/dist-packages (from httpcore==1.*->httpx<1,>=0.23.0->langsmith<0.2.0,>=0.1.75->langchain-core<0.3.0,>=0.2.38->langchain-text-splitters) (0.14.0)\n",
            "Requirement already satisfied: charset-normalizer<4,>=2 in /usr/local/lib/python3.10/dist-packages (from requests<3,>=2->langsmith<0.2.0,>=0.1.75->langchain-core<0.3.0,>=0.2.38->langchain-text-splitters) (3.3.2)\n",
            "Requirement already satisfied: urllib3<3,>=1.21.1 in /usr/local/lib/python3.10/dist-packages (from requests<3,>=2->langsmith<0.2.0,>=0.1.75->langchain-core<0.3.0,>=0.2.38->langchain-text-splitters) (2.0.7)\n",
            "Requirement already satisfied: exceptiongroup in /usr/local/lib/python3.10/dist-packages (from anyio->httpx<1,>=0.23.0->langsmith<0.2.0,>=0.1.75->langchain-core<0.3.0,>=0.2.38->langchain-text-splitters) (1.2.2)\n",
            "Requirement already satisfied: fastembed in /usr/local/lib/python3.10/dist-packages (0.3.6)\n",
            "Requirement already satisfied: PyStemmer<3.0.0,>=2.2.0 in /usr/local/lib/python3.10/dist-packages (from fastembed) (2.2.0.1)\n",
            "Requirement already satisfied: huggingface-hub<1.0,>=0.20 in /usr/local/lib/python3.10/dist-packages (from fastembed) (0.24.6)\n",
            "Requirement already satisfied: loguru<0.8.0,>=0.7.2 in /usr/local/lib/python3.10/dist-packages (from fastembed) (0.7.2)\n",
            "Requirement already satisfied: mmh3<5.0,>=4.0 in /usr/local/lib/python3.10/dist-packages (from fastembed) (4.1.0)\n",
            "Requirement already satisfied: numpy<2,>=1.21 in /usr/local/lib/python3.10/dist-packages (from fastembed) (1.26.4)\n",
            "Requirement already satisfied: onnx<2.0.0,>=1.15.0 in /usr/local/lib/python3.10/dist-packages (from fastembed) (1.16.2)\n",
            "Requirement already satisfied: onnxruntime<2.0.0,>=1.17.0 in /usr/local/lib/python3.10/dist-packages (from fastembed) (1.19.2)\n",
            "Requirement already satisfied: pillow<11.0.0,>=10.3.0 in /usr/local/lib/python3.10/dist-packages (from fastembed) (10.4.0)\n",
            "Requirement already satisfied: requests<3.0,>=2.31 in /usr/local/lib/python3.10/dist-packages (from fastembed) (2.32.3)\n",
            "Requirement already satisfied: snowballstemmer<3.0.0,>=2.2.0 in /usr/local/lib/python3.10/dist-packages (from fastembed) (2.2.0)\n",
            "Requirement already satisfied: tokenizers<1.0,>=0.15 in /usr/local/lib/python3.10/dist-packages (from fastembed) (0.19.1)\n",
            "Requirement already satisfied: tqdm<5.0,>=4.66 in /usr/local/lib/python3.10/dist-packages (from fastembed) (4.66.5)\n",
            "Requirement already satisfied: filelock in /usr/local/lib/python3.10/dist-packages (from huggingface-hub<1.0,>=0.20->fastembed) (3.15.4)\n",
            "Requirement already satisfied: fsspec>=2023.5.0 in /usr/local/lib/python3.10/dist-packages (from huggingface-hub<1.0,>=0.20->fastembed) (2024.6.1)\n",
            "Requirement already satisfied: packaging>=20.9 in /usr/local/lib/python3.10/dist-packages (from huggingface-hub<1.0,>=0.20->fastembed) (24.1)\n",
            "Requirement already satisfied: pyyaml>=5.1 in /usr/local/lib/python3.10/dist-packages (from huggingface-hub<1.0,>=0.20->fastembed) (6.0.2)\n",
            "Requirement already satisfied: typing-extensions>=3.7.4.3 in /usr/local/lib/python3.10/dist-packages (from huggingface-hub<1.0,>=0.20->fastembed) (4.12.2)\n",
            "Requirement already satisfied: protobuf>=3.20.2 in /usr/local/lib/python3.10/dist-packages (from onnx<2.0.0,>=1.15.0->fastembed) (3.20.3)\n",
            "Requirement already satisfied: coloredlogs in /usr/local/lib/python3.10/dist-packages (from onnxruntime<2.0.0,>=1.17.0->fastembed) (15.0.1)\n",
            "Requirement already satisfied: flatbuffers in /usr/local/lib/python3.10/dist-packages (from onnxruntime<2.0.0,>=1.17.0->fastembed) (24.3.25)\n",
            "Requirement already satisfied: sympy in /usr/local/lib/python3.10/dist-packages (from onnxruntime<2.0.0,>=1.17.0->fastembed) (1.13.2)\n",
            "Requirement already satisfied: charset-normalizer<4,>=2 in /usr/local/lib/python3.10/dist-packages (from requests<3.0,>=2.31->fastembed) (3.3.2)\n",
            "Requirement already satisfied: idna<4,>=2.5 in /usr/local/lib/python3.10/dist-packages (from requests<3.0,>=2.31->fastembed) (3.8)\n",
            "Requirement already satisfied: urllib3<3,>=1.21.1 in /usr/local/lib/python3.10/dist-packages (from requests<3.0,>=2.31->fastembed) (2.0.7)\n",
            "Requirement already satisfied: certifi>=2017.4.17 in /usr/local/lib/python3.10/dist-packages (from requests<3.0,>=2.31->fastembed) (2024.8.30)\n",
            "Requirement already satisfied: humanfriendly>=9.1 in /usr/local/lib/python3.10/dist-packages (from coloredlogs->onnxruntime<2.0.0,>=1.17.0->fastembed) (10.0)\n",
            "Requirement already satisfied: mpmath<1.4,>=1.1.0 in /usr/local/lib/python3.10/dist-packages (from sympy->onnxruntime<2.0.0,>=1.17.0->fastembed) (1.3.0)\n",
            "Requirement already satisfied: tiktoken in /usr/local/lib/python3.10/dist-packages (0.7.0)\n",
            "Requirement already satisfied: regex>=2022.1.18 in /usr/local/lib/python3.10/dist-packages (from tiktoken) (2024.5.15)\n",
            "Requirement already satisfied: requests>=2.26.0 in /usr/local/lib/python3.10/dist-packages (from tiktoken) (2.32.3)\n",
            "Requirement already satisfied: charset-normalizer<4,>=2 in /usr/local/lib/python3.10/dist-packages (from requests>=2.26.0->tiktoken) (3.3.2)\n",
            "Requirement already satisfied: idna<4,>=2.5 in /usr/local/lib/python3.10/dist-packages (from requests>=2.26.0->tiktoken) (3.8)\n",
            "Requirement already satisfied: urllib3<3,>=1.21.1 in /usr/local/lib/python3.10/dist-packages (from requests>=2.26.0->tiktoken) (2.0.7)\n",
            "Requirement already satisfied: certifi>=2017.4.17 in /usr/local/lib/python3.10/dist-packages (from requests>=2.26.0->tiktoken) (2024.8.30)\n",
            "Requirement already satisfied: firecrawl-py in /usr/local/lib/python3.10/dist-packages (1.2.3)\n",
            "Requirement already satisfied: requests in /usr/local/lib/python3.10/dist-packages (from firecrawl-py) (2.32.3)\n",
            "Requirement already satisfied: python-dotenv in /usr/local/lib/python3.10/dist-packages (from firecrawl-py) (1.0.1)\n",
            "Requirement already satisfied: websockets in /usr/local/lib/python3.10/dist-packages (from firecrawl-py) (13.0.1)\n",
            "Requirement already satisfied: asyncio in /usr/local/lib/python3.10/dist-packages (from firecrawl-py) (3.4.3)\n",
            "Requirement already satisfied: nest-asyncio in /usr/local/lib/python3.10/dist-packages (from firecrawl-py) (1.6.0)\n",
            "Requirement already satisfied: charset-normalizer<4,>=2 in /usr/local/lib/python3.10/dist-packages (from requests->firecrawl-py) (3.3.2)\n",
            "Requirement already satisfied: idna<4,>=2.5 in /usr/local/lib/python3.10/dist-packages (from requests->firecrawl-py) (3.8)\n",
            "Requirement already satisfied: urllib3<3,>=1.21.1 in /usr/local/lib/python3.10/dist-packages (from requests->firecrawl-py) (2.0.7)\n",
            "Requirement already satisfied: certifi>=2017.4.17 in /usr/local/lib/python3.10/dist-packages (from requests->firecrawl-py) (2024.8.30)\n",
            "Requirement already satisfied: faiss-cpu in /usr/local/lib/python3.10/dist-packages (1.8.0.post1)\n",
            "Requirement already satisfied: numpy<2.0,>=1.0 in /usr/local/lib/python3.10/dist-packages (from faiss-cpu) (1.26.4)\n",
            "Requirement already satisfied: packaging in /usr/local/lib/python3.10/dist-packages (from faiss-cpu) (24.1)\n",
            "Requirement already satisfied: transformers in /usr/local/lib/python3.10/dist-packages (4.44.2)\n",
            "Requirement already satisfied: filelock in /usr/local/lib/python3.10/dist-packages (from transformers) (3.15.4)\n",
            "Requirement already satisfied: huggingface-hub<1.0,>=0.23.2 in /usr/local/lib/python3.10/dist-packages (from transformers) (0.24.6)\n",
            "Requirement already satisfied: numpy>=1.17 in /usr/local/lib/python3.10/dist-packages (from transformers) (1.26.4)\n",
            "Requirement already satisfied: packaging>=20.0 in /usr/local/lib/python3.10/dist-packages (from transformers) (24.1)\n",
            "Requirement already satisfied: pyyaml>=5.1 in /usr/local/lib/python3.10/dist-packages (from transformers) (6.0.2)\n",
            "Requirement already satisfied: regex!=2019.12.17 in /usr/local/lib/python3.10/dist-packages (from transformers) (2024.5.15)\n",
            "Requirement already satisfied: requests in /usr/local/lib/python3.10/dist-packages (from transformers) (2.32.3)\n",
            "Requirement already satisfied: safetensors>=0.4.1 in /usr/local/lib/python3.10/dist-packages (from transformers) (0.4.4)\n",
            "Requirement already satisfied: tokenizers<0.20,>=0.19 in /usr/local/lib/python3.10/dist-packages (from transformers) (0.19.1)\n",
            "Requirement already satisfied: tqdm>=4.27 in /usr/local/lib/python3.10/dist-packages (from transformers) (4.66.5)\n",
            "Requirement already satisfied: fsspec>=2023.5.0 in /usr/local/lib/python3.10/dist-packages (from huggingface-hub<1.0,>=0.23.2->transformers) (2024.6.1)\n",
            "Requirement already satisfied: typing-extensions>=3.7.4.3 in /usr/local/lib/python3.10/dist-packages (from huggingface-hub<1.0,>=0.23.2->transformers) (4.12.2)\n",
            "Requirement already satisfied: charset-normalizer<4,>=2 in /usr/local/lib/python3.10/dist-packages (from requests->transformers) (3.3.2)\n",
            "Requirement already satisfied: idna<4,>=2.5 in /usr/local/lib/python3.10/dist-packages (from requests->transformers) (3.8)\n",
            "Requirement already satisfied: urllib3<3,>=1.21.1 in /usr/local/lib/python3.10/dist-packages (from requests->transformers) (2.0.7)\n",
            "Requirement already satisfied: certifi>=2017.4.17 in /usr/local/lib/python3.10/dist-packages (from requests->transformers) (2024.8.30)\n",
            "Requirement already satisfied: yake in /usr/local/lib/python3.10/dist-packages (0.4.8)\n",
            "Requirement already satisfied: tabulate in /usr/local/lib/python3.10/dist-packages (from yake) (0.9.0)\n",
            "Requirement already satisfied: click>=6.0 in /usr/local/lib/python3.10/dist-packages (from yake) (8.1.7)\n",
            "Requirement already satisfied: numpy in /usr/local/lib/python3.10/dist-packages (from yake) (1.26.4)\n",
            "Requirement already satisfied: segtok in /usr/local/lib/python3.10/dist-packages (from yake) (1.5.11)\n",
            "Requirement already satisfied: networkx in /usr/local/lib/python3.10/dist-packages (from yake) (3.3)\n",
            "Requirement already satisfied: jellyfish in /usr/local/lib/python3.10/dist-packages (from yake) (1.1.0)\n",
            "Requirement already satisfied: regex in /usr/local/lib/python3.10/dist-packages (from segtok->yake) (2024.5.15)\n"
          ]
        }
      ],
      "source": [
        "!pip install langchain\n",
        "!pip install langchain-groq\n",
        "!pip install langchainhub\n",
        "!pip install langchain_community\n",
        "!pip install langchain-text-splitters\n",
        "!pip install fastembed\n",
        "!pip install tiktoken\n",
        "!pip install firecrawl-py\n",
        "!pip install faiss-cpu\n",
        "!pip install transformers\n",
        "!pip install yake"
      ]
    },
    {
      "cell_type": "markdown",
      "source": [
        "##Importando as bibliotecas usadas para fazer as requisições de API."
      ],
      "metadata": {
        "id": "GsF_V7V683gm"
      }
    },
    {
      "cell_type": "code",
      "execution_count": 20,
      "metadata": {
        "id": "ndtOA-haXY0c"
      },
      "outputs": [],
      "source": [
        "import requests\n",
        "from google.colab import userdata"
      ]
    },
    {
      "cell_type": "markdown",
      "source": [
        "Como pode ser visto, a NewsAPI não retorna o conteúdo das notícias brasileiras"
      ],
      "metadata": {
        "id": "LJasKDTL9Lom"
      }
    },
    {
      "cell_type": "code",
      "execution_count": 21,
      "metadata": {
        "colab": {
          "base_uri": "https://localhost:8080/"
        },
        "id": "LnV12_mzXd3y",
        "outputId": "ebc74c35-ab77-4323-9168-142341805823"
      },
      "outputs": [
        {
          "output_type": "stream",
          "name": "stdout",
          "text": [
            "{\n",
            "  \"status\": \"ok\",\n",
            "  \"totalResults\": 10,\n",
            "  \"articles\": [\n",
            "    {\n",
            "      \"source\": {\n",
            "        \"id\": \"google-news-br\",\n",
            "        \"name\": \"Google News (Brasil)\"\n",
            "      },\n",
            "      \"author\": \"SBT\",\n",
            "      \"title\": \"Ônibus tomba no Rio de Janeiro e deixa 26 feridos - SBT\",\n",
            "      \"description\": null,\n",
            "      \"url\": \"https://news.google.com/rss/articles/CBMilwFBVV95cUxPSGhBdGFlSl9jSS1ZWGRqSElUcTVMRl9MZHhUdklyZnpDc1M1YnBlSzJsU1dqdGc5d041MXIxM3p1RDJlcTB3Nm1pUFd5M25sS1BBY0c2aXVQSXJCdUVZV3FUUUxuYkQ2SF90MGY2enMyMXhKb0hBc29ka2J2TXJ2N2JsbC1nQUZBMm9ISVdoRzJtLUlidzBJ?oc=5\",\n",
            "      \"urlToImage\": null,\n",
            "      \"publishedAt\": \"2024-09-08T00:37:00+00:00\",\n",
            "      \"content\": null\n",
            "    }\n",
            "  ]\n",
            "}\n"
          ]
        }
      ],
      "source": [
        "import json\n",
        "# URL base da API\n",
        "URL_BASE = 'https://newsapi.org/v2/top-headlines'\n",
        "# Parâmetros da requisição\n",
        "params = {\n",
        "    'sources': 'google-news-br',\n",
        "    'apiKey': userdata.get('NEWS_API_KEY'),\n",
        "    'pageSize': 1  # Limitando a 1 resultado\n",
        "}\n",
        "\n",
        "# Fazendo a requisição GET\n",
        "response = requests.get(URL_BASE, params=params)\n",
        "\n",
        "# Verificando se a requisição foi bem-sucedida\n",
        "if response.status_code == 200:\n",
        "    data = response.json()\n",
        "    print(json.dumps(data, indent=2, ensure_ascii=False))\n",
        "else:\n",
        "    print(f\"Falha na requisição.\")"
      ]
    },
    {
      "cell_type": "markdown",
      "source": [
        "E para notícias estrangeiras retorna o conteúdo truncado, ou seja, será necessário realizar web scraping nas urls que a API retorna.\n"
      ],
      "metadata": {
        "id": "GPmDG4909ab9"
      }
    },
    {
      "cell_type": "code",
      "source": [
        "import json\n",
        "# URL base da API\n",
        "URL_BASE = 'https://newsapi.org/v2/top-headlines'\n",
        "# Parâmetros da requisição\n",
        "params = {\n",
        "    'country':'us',\n",
        "    'apiKey': userdata.get('NEWS_API_KEY'),\n",
        "    'pageSize': 1  # Limitando a 1 resultado\n",
        "}\n",
        "\n",
        "# Fazendo a requisição GET\n",
        "response = requests.get(URL_BASE, params=params)\n",
        "\n",
        "# Verificando se a requisição foi bem-sucedida\n",
        "if response.status_code == 200:\n",
        "    data = response.json()\n",
        "    print(json.dumps(data, indent=2, ensure_ascii=False))\n",
        "else:\n",
        "    print(f\"Falha na requisição.\")"
      ],
      "metadata": {
        "colab": {
          "base_uri": "https://localhost:8080/"
        },
        "id": "JWUb8unH9TG4",
        "outputId": "729b5851-1a99-436e-b047-686e784ed091"
      },
      "execution_count": 22,
      "outputs": [
        {
          "output_type": "stream",
          "name": "stdout",
          "text": [
            "{\n",
            "  \"status\": \"ok\",\n",
            "  \"totalResults\": 37,\n",
            "  \"articles\": [\n",
            "    {\n",
            "      \"source\": {\n",
            "        \"id\": \"cnn\",\n",
            "        \"name\": \"CNN\"\n",
            "      },\n",
            "      \"author\": \"Raja Razek, Emma Tucker\",\n",
            "      \"title\": \"Ketucky I-75 shooting: Numerous people shot in Kentucky near Interstate 75, officials say - CNN\",\n",
            "      \"description\": \"Several people have been shot near Interstate 75 in Laurel County, Kentucky, according to the Laurel County Sheriff’s office.\",\n",
            "      \"url\": \"https://www.cnn.com/2024/09/07/us/kentucky-interstate-75-shooting/index.html\",\n",
            "      \"urlToImage\": \"https://media.cnn.com/api/v1/images/stellar/prod/screen-shot-2024-09-07-at-7-12-13-pm.jpg?c=16x9&q=w_800,c_fill\",\n",
            "      \"publishedAt\": \"2024-09-08T00:36:00Z\",\n",
            "      \"content\": \"A manhunt is underway for at least one suspect after several people were shot Saturday near an interstate in a rural area of Laurel County, Kentucky, located south of Lexington, according to the sher… [+2985 chars]\"\n",
            "    }\n",
            "  ]\n",
            "}\n"
          ]
        }
      ]
    },
    {
      "cell_type": "markdown",
      "source": [
        "Adiantando um problema futuro: URLs das notícias brasileiras são links redirecionadores e o FireCrawl não consegue acessar e não consegui encontrar uma forma de obter a URL final. Portanto, usarei notícias de fora do país."
      ],
      "metadata": {
        "id": "QeCPEbEx-FPK"
      }
    },
    {
      "cell_type": "markdown",
      "source": [
        "PARA O PROGRAMA RODAR MAIS RÁPIDO, TROQUE 'pageSize' PARA UM VALOR MENOR"
      ],
      "metadata": {
        "id": "Waa0hHZTbJgZ"
      }
    },
    {
      "cell_type": "code",
      "execution_count": 23,
      "metadata": {
        "colab": {
          "base_uri": "https://localhost:8080/"
        },
        "id": "g0kEcDs9XfFH",
        "outputId": "f6370718-213c-4cbf-e235-69e57a6da026"
      },
      "outputs": [
        {
          "output_type": "stream",
          "name": "stdout",
          "text": [
            "['https://www.cnn.com/2024/09/07/us/kentucky-interstate-75-shooting/index.html', 'https://sports.yahoo.com/live/college-football-week-2-scores-games-colorado-vs-nebraska-tennessee-vs-nc-state-and-more-150045723.html', 'https://www.washingtonpost.com/investigations/2024/09/07/apalachee-georgia-oxford-shooting/', 'https://www.washingtonpost.com/world/2024/09/07/israel-gaza-hamas-west-bank-aysenur-eygi-investigation/', 'https://www.npr.org/2024/09/07/nx-s1-5104786/tennis-us-open-aryna-sabalenka-beats-jessica-pegula']\n"
          ]
        }
      ],
      "source": [
        "# Faz requisições as APIs e retorna uma lista de URLs das notícias encontradas\n",
        "def fetch_news():\n",
        "  links = []\n",
        "  URL_BASE = 'https://newsapi.org/v2/top-headlines'\n",
        "  params = {\n",
        "      'country': 'us', # Define o país, Brasil não retorna informações válidas\n",
        "      'apiKey': userdata.get('NEWS_API_KEY'), # key da api\n",
        "      'pageSize': 5, # número de resultados\n",
        "  }\n",
        "  response = requests.get(URL_BASE, params=params)\n",
        "\n",
        "  # Verifica se a requisição foi bem-sucedida\n",
        "  if response.status_code == 200:\n",
        "    data = response.json()\n",
        "    for article in data['articles']:\n",
        "      links.append(article.get('url'))\n",
        "    return links\n",
        "  else:\n",
        "    return None\n",
        "\n",
        "links_teste = fetch_news()\n",
        "print(links_teste)"
      ]
    },
    {
      "cell_type": "markdown",
      "source": [
        "A função crawl_e_save() é responsável por utilizar o FireCrawlLoader para fazer scraping das URLs e extrair as informações. Depois divide o conteúdo dos documentos em partes menores, salva em um arquivo TXT único para cada notícia, trata possíveis erros no processo de scraping e salvamento."
      ],
      "metadata": {
        "id": "ZxQXpToP-3ev"
      }
    },
    {
      "cell_type": "code",
      "execution_count": 24,
      "metadata": {
        "colab": {
          "base_uri": "https://localhost:8080/"
        },
        "id": "HPMDeom9Xg3f",
        "outputId": "d1988be5-1e18-45ce-f749-cd3ef15432ee"
      },
      "outputs": [
        {
          "output_type": "stream",
          "name": "stdout",
          "text": [
            "Conteúdo de https://www.cnn.com/2024/09/07/us/kentucky-interstate-75-shooting/index.html salvo em noticia_1.txt\n",
            "Conteúdo de https://sports.yahoo.com/live/college-football-week-2-scores-games-colorado-vs-nebraska-tennessee-vs-nc-state-and-more-150045723.html salvo em noticia_2.txt\n",
            "Conteúdo de https://www.washingtonpost.com/investigations/2024/09/07/apalachee-georgia-oxford-shooting/ salvo em noticia_3.txt\n",
            "Conteúdo de https://www.washingtonpost.com/world/2024/09/07/israel-gaza-hamas-west-bank-aysenur-eygi-investigation/ salvo em noticia_4.txt\n",
            "Conteúdo de https://www.npr.org/2024/09/07/nx-s1-5104786/tennis-us-open-aryna-sabalenka-beats-jessica-pegula salvo em noticia_5.txt\n"
          ]
        }
      ],
      "source": [
        "from langchain_community.document_loaders import FireCrawlLoader\n",
        "from langchain.text_splitter import RecursiveCharacterTextSplitter\n",
        "import os\n",
        "\n",
        "def crawl_e_salva(urls):\n",
        "    for index, url in enumerate(urls, start=1):\n",
        "        try:\n",
        "            # Inicializar o FireCrawlLoader com a URL\n",
        "            loader = FireCrawlLoader(\n",
        "                api_key=userdata.get('FIRECRAWL_API_KEY'),\n",
        "                url=url,\n",
        "                mode='scrape')\n",
        "\n",
        "            # Carrega os documentos\n",
        "            documents = loader.load()\n",
        "\n",
        "            # Cria um splitter de texto\n",
        "            text_splitter = RecursiveCharacterTextSplitter(chunk_size=2500, chunk_overlap=200)\n",
        "\n",
        "            # Divide os documentos em chunks menores\n",
        "            splits = text_splitter.split_documents(documents)\n",
        "\n",
        "            # Define o nome dos arquivos\n",
        "            filename = f\"noticia_{index}.txt\"\n",
        "\n",
        "            # Salva o conteúdo em um arquivo .txt\n",
        "            with open(filename, \"w\", encoding=\"utf-8\") as f:\n",
        "                f.write(f\"URL original: {url}\\n\\n\")  # Adiciona a URL original no início do arquivo\n",
        "                for split in splits:\n",
        "                    f.write(split.page_content + \"\\n\\n\")\n",
        "\n",
        "            print(f\"Conteúdo de {url} salvo em {filename}\")\n",
        "\n",
        "        except Exception as e:\n",
        "            print(f\"Erro ao processar {url}: {str(e)}\")\n",
        "\n",
        "# Lista de URLs para crawlear\n",
        "urls_to_crawl = fetch_news()\n",
        "crawl_e_salva(urls_to_crawl)"
      ]
    },
    {
      "cell_type": "code",
      "execution_count": 25,
      "metadata": {
        "id": "DC77T_vXcUBe"
      },
      "outputs": [],
      "source": [
        "# Importando o restante dos pacotes instalados no começo\n",
        "import os\n",
        "from typing import List\n",
        "from pydantic import BaseModel, Field\n",
        "from langchain.prompts import ChatPromptTemplate\n",
        "from langchain_groq import ChatGroq\n",
        "from langchain_text_splitters import TokenTextSplitter\n",
        "from langchain_community.vectorstores import FAISS\n",
        "from langchain_community.embeddings.fastembed import FastEmbedEmbeddings\n",
        "from langchain_core.runnables import RunnableLambda\n",
        "import textwrap\n",
        "from IPython.display import display, Markdown\n",
        "from transformers import pipeline\n",
        "import yake"
      ]
    },
    {
      "cell_type": "markdown",
      "source": [
        "# Definição da classe Noticia usando Pydantic para validação de dados"
      ],
      "metadata": {
        "id": "po-Oet7VUR3G"
      }
    },
    {
      "cell_type": "code",
      "execution_count": 26,
      "metadata": {
        "id": "IG9hR5FicW5G"
      },
      "outputs": [],
      "source": [
        "class Noticia(BaseModel):\n",
        "    titulo: str = Field(..., description=\"Título da notícia\")\n",
        "    url: str = Field(..., description=\"URL original da notícia\")\n",
        "    fonte: str = Field(..., description=\"Fonte da notícia\")\n",
        "    resumo: str = Field(..., description=\"Um resumo detalhado da notícia\")\n",
        "    categoria: str = Field(None, description=\"Categoria da notícia\")\n",
        "    palavras_chave: List[str] = Field(default_factory=list, description=\"Palavras-chave da notícia\")"
      ]
    },
    {
      "cell_type": "markdown",
      "source": [
        "# Configuração do prompt"
      ],
      "metadata": {
        "id": "xleqc5zZUT_U"
      }
    },
    {
      "cell_type": "code",
      "execution_count": 37,
      "metadata": {
        "id": "DbZNZLbTcYNu"
      },
      "outputs": [],
      "source": [
        "prompt = ChatPromptTemplate.from_messages([\n",
        "    (\"system\", \"\"\"Você é um especialista em análise de notícias. Sua tarefa é extrair\n",
        "    as informações mais importantes do texto fornecido. É CRUCIAL que você forneça\n",
        "    APENAS as seguintes informações, exatamente neste formato:\n",
        "\n",
        "    Título: [Título preciso da notícia]\n",
        "    Fonte: [Nome do jornal ou site]\n",
        "    Resumo: [Um resumo conciso da notícia em 3-5 frases, totalizando 75-100 palavras]\n",
        "\n",
        "    O resumo deve incluir os principais fatos, pessoas ou organizações envolvidas,\n",
        "    contexto relevante e impacto ou importância da notícia. Seja objetivo e\n",
        "    informativo, evitando opiniões ou especulações.\"\"\"),\n",
        "    (\"human\", \"{texto}\"),\n",
        "])"
      ]
    },
    {
      "cell_type": "markdown",
      "source": [
        "# Configura o modelo de chat usando o ChatGroq com o modelo llama-3.1 da META/Facebook"
      ],
      "metadata": {
        "id": "PmcnqYRLUXbs"
      }
    },
    {
      "cell_type": "code",
      "execution_count": 28,
      "metadata": {
        "id": "0iP2yYvecaBF"
      },
      "outputs": [],
      "source": [
        "modelo = ChatGroq(\n",
        "    model=\"llama-3.1-70b-versatile\",\n",
        "    api_key=userdata.get('GROQ_API_KEY'),\n",
        "    temperature=0.1\n",
        ")\n",
        "\n",
        "extrator = prompt | modelo"
      ]
    },
    {
      "cell_type": "markdown",
      "source": [
        "# Configuração do splitter de texto"
      ],
      "metadata": {
        "id": "6d_X9tIVUZFU"
      }
    },
    {
      "cell_type": "code",
      "execution_count": 29,
      "metadata": {
        "id": "HabJEb1tcdXF"
      },
      "outputs": [],
      "source": [
        "text_splitter = TokenTextSplitter(chunk_size=2000, chunk_overlap=100)"
      ]
    },
    {
      "cell_type": "markdown",
      "source": [
        "# Configuração do armazenamento vetorial"
      ],
      "metadata": {
        "id": "R9hV6xbdUays"
      }
    },
    {
      "cell_type": "code",
      "execution_count": 30,
      "metadata": {
        "colab": {
          "base_uri": "https://localhost:8080/",
          "height": 49,
          "referenced_widgets": [
            "3e556accf7644784a01d0b84bb4edba3",
            "6d8d160cf85e4e93af8fddc988034b27",
            "085f21ec7c7840c9bb40b0b3fd38d598",
            "95874b7e28874f629206798f83e58588",
            "c1ae344315564499b5126a1629b765f3",
            "38c1509af44e49bf9f9d93129232e2eb",
            "839715959c9f4ee8aa0691439455d03c",
            "06ac98f83d164a3e91a4799b22dd1770",
            "9d081b514a2f4550bba5ff1e97b06c90",
            "883f3af58dff43dea7b23f40783534e0",
            "91e22f4180a24f07b2d9a44ad376758c"
          ]
        },
        "id": "8zbuUrcncig1",
        "outputId": "5d9dff7f-92f0-45a2-d327-1825b2e8321d"
      },
      "outputs": [
        {
          "output_type": "display_data",
          "data": {
            "text/plain": [
              "Fetching 5 files:   0%|          | 0/5 [00:00<?, ?it/s]"
            ],
            "application/vnd.jupyter.widget-view+json": {
              "version_major": 2,
              "version_minor": 0,
              "model_id": "3e556accf7644784a01d0b84bb4edba3"
            }
          },
          "metadata": {}
        }
      ],
      "source": [
        "embeddings = FastEmbedEmbeddings(model_name=\"BAAI/bge-large-en-v1.5\")"
      ]
    },
    {
      "cell_type": "markdown",
      "source": [
        "#Função de classificação de texto"
      ],
      "metadata": {
        "id": "GzCFMMNRUlWT"
      }
    },
    {
      "cell_type": "code",
      "source": [
        "# Inicializar o pipeline de classificação de texto\n",
        "classificador = pipeline(\"zero-shot-classification\", model=\"facebook/bart-large-mnli\")\n",
        "\n",
        "# Função para classificar texto\n",
        "def classificar_noticia(texto: str, categorias: List[str]) -> str:\n",
        "    resultado = classificador(texto, candidate_labels=categorias)\n",
        "    return resultado['labels'][0]  # Retorna a categoria com maior pontuação\n",
        "\n",
        "kw_extractor = yake.KeywordExtractor(lan=\"pt\", n=1, top=5)"
      ],
      "metadata": {
        "id": "ZUMJjsrNhOVq",
        "colab": {
          "base_uri": "https://localhost:8080/"
        },
        "outputId": "4c51dcee-fca1-4fac-eac5-11034bcf00e7"
      },
      "execution_count": 31,
      "outputs": [
        {
          "output_type": "stream",
          "name": "stderr",
          "text": [
            "/usr/local/lib/python3.10/dist-packages/transformers/tokenization_utils_base.py:1601: FutureWarning: `clean_up_tokenization_spaces` was not set. It will be set to `True` by default. This behavior will be depracted in transformers v4.45, and will be then set to `False` by default. For more details check this issue: https://github.com/huggingface/transformers/issues/31884\n",
            "  warnings.warn(\n"
          ]
        }
      ]
    },
    {
      "cell_type": "markdown",
      "source": [
        "#Função de extração de palavras-chave"
      ],
      "metadata": {
        "id": "sCs_A4r2Uo7D"
      }
    },
    {
      "cell_type": "code",
      "source": [
        "# Função para extrair palavras-chave\n",
        "def extrair_palavras_chave(texto: str, top_n: int = 5) -> List[str]:\n",
        "    palavras_chave = kw_extractor.extract_keywords(texto)\n",
        "\n",
        "    # Retorna as palavras-chave como uma lista de strings\n",
        "    return [palavra[0] for palavra in palavras_chave[:top_n]]"
      ],
      "metadata": {
        "id": "XhqxXCs3UjEK"
      },
      "execution_count": 32,
      "outputs": []
    },
    {
      "cell_type": "markdown",
      "source": [
        "#Processar arquivos"
      ],
      "metadata": {
        "id": "AWgY2Pv7Ut6T"
      }
    },
    {
      "cell_type": "markdown",
      "source": [
        "Aqui é onde as notícias são processadas e são resumidas, categorizadas e tem suas palavras-chave extraídas."
      ],
      "metadata": {
        "id": "MkBeMfIzU6xy"
      }
    },
    {
      "cell_type": "code",
      "execution_count": 33,
      "metadata": {
        "id": "d4hVzZkscpPc"
      },
      "outputs": [],
      "source": [
        "def processar_arquivo(arquivo: str) -> Noticia:\n",
        "    with open(arquivo, 'r', encoding='utf-8') as f:\n",
        "        conteudo = f.read()\n",
        "\n",
        "    # Extrair a URL original do conteúdo\n",
        "    url = conteudo.split('\\n')[0].replace(\"URL original: \", \"\").strip()\n",
        "\n",
        "    # Divide o conteúdo em partes menores\n",
        "    textos = text_splitter.split_text(conteudo)\n",
        "    vectorstore = FAISS.from_texts(textos, embedding=embeddings)\n",
        "    # Busca os 3 documentos mais relevantes\n",
        "    retriever = vectorstore.as_retriever(search_kwargs={\"k\": 3})\n",
        "\n",
        "    # Função paara formatar documentos\n",
        "    def documentos(docs):\n",
        "        return \"\\n\".join([doc.page_content for doc in docs])\n",
        "\n",
        "    # Configura o extrator de informações usando RAG\n",
        "    rag_extrator = {\n",
        "        \"texto\": retriever | RunnableLambda(documentos)\n",
        "    } | extrator\n",
        "\n",
        "    resultado = rag_extrator.invoke(\"Extraia as informações principais desta notícia\")\n",
        "\n",
        "    # Processar o resultado para extrair as informações\n",
        "    linhas = resultado.content.split('\\n')\n",
        "    titulo = \"Título não encontrado\"\n",
        "    fonte = \"Fonte não identificada\"\n",
        "    resumo = \"\"\n",
        "\n",
        "    for linha in linhas:\n",
        "        if linha.startswith(\"Título:\"):\n",
        "            titulo = linha.split(\":\", 1)[1].strip()\n",
        "        elif linha.startswith(\"Fonte:\"):\n",
        "            fonte = linha.split(\":\", 1)[1].strip()\n",
        "        elif linha.startswith(\"Resumo:\"):\n",
        "            resumo = linha.split(\":\", 1)[1].strip()\n",
        "\n",
        "    # Classificar o resumo da notícia em categorias\n",
        "    categorias = [\"Política\", \"Economia\", \"Esportes\", \"Tecnologia\", \"Saúde\", \"Entretenimento\", \"Crimes\"]\n",
        "    categoria = classificar_noticia(resumo, categorias)\n",
        "\n",
        "    # Extrair palavras-chave do resumo da notícia\n",
        "    palavras_chave = extrair_palavras_chave(resumo)\n",
        "\n",
        "    # Retorna um objeto Noticia com as informações extraídas\n",
        "    return Noticia(\n",
        "        titulo=titulo,\n",
        "        url=url,\n",
        "        fonte=fonte,\n",
        "        resumo=resumo,\n",
        "        categoria=categoria,\n",
        "        palavras_chave=palavras_chave\n",
        "    )"
      ]
    },
    {
      "cell_type": "markdown",
      "source": [
        "Itera a função acima para cada arquivo no diretório atual que corresponda ao formato do nome"
      ],
      "metadata": {
        "id": "uO6vbbnbVFdq"
      }
    },
    {
      "cell_type": "code",
      "execution_count": 34,
      "metadata": {
        "colab": {
          "base_uri": "https://localhost:8080/"
        },
        "id": "CHq5zWsXc537",
        "outputId": "14ca7386-1ebb-438d-bfbf-dfc784f343db"
      },
      "outputs": [
        {
          "output_type": "stream",
          "name": "stdout",
          "text": [
            "Processando noticia_1.txt...\n",
            "Processando noticia_2.txt...\n",
            "Processando noticia_3.txt...\n",
            "Processando noticia_4.txt...\n",
            "Processando noticia_5.txt...\n"
          ]
        }
      ],
      "source": [
        "diretorio = '.'  # Diretório atual, onde os arquivos .txt são salvos\n",
        "arquivos = [f for f in os.listdir(diretorio) if f.startswith('noticia_') and f.endswith('.txt')]\n",
        "\n",
        "todas_noticias = []\n",
        "\n",
        "for arquivo in sorted(arquivos):\n",
        "    print(f\"Processando {arquivo}...\")\n",
        "    noticia = processar_arquivo(os.path.join(diretorio, arquivo))\n",
        "    todas_noticias.append(noticia)"
      ]
    },
    {
      "cell_type": "markdown",
      "source": [
        "#Salva todas as notícias em um arquivo Markdown"
      ],
      "metadata": {
        "id": "3n6aqZnFVQ5o"
      }
    },
    {
      "cell_type": "markdown",
      "source": [
        "Para ficar melhor formatado."
      ],
      "metadata": {
        "id": "Ah6oC15cVWQ4"
      }
    },
    {
      "cell_type": "code",
      "execution_count": 35,
      "metadata": {
        "id": "V4902HUPMTs1"
      },
      "outputs": [],
      "source": [
        "# Salvar todas as notícias em um único arquivo Markdown para ficar melhor formatado\n",
        "with open('resumo_noticias.md', 'w', encoding='utf-8') as f:\n",
        "    f.write(\"# Resumo de Todas as Notícias\\n\\n\")\n",
        "    for noticia in todas_noticias:\n",
        "        f.write(f\"## {noticia.titulo}\\n\\n\")\n",
        "        f.write(f\"**URL:** {noticia.url}\\n\\n\")\n",
        "        f.write(f\"**Fonte:** {noticia.fonte}\\n\\n\")\n",
        "        f.write(f\"**Categoria:** {noticia.categoria}\\n\\n\")\n",
        "        f.write(\"### Palavras-chave\\n\\n\")\n",
        "        f.write(\", \".join(noticia.palavras_chave) + \"\\n\\n\")\n",
        "        f.write(\"### Resumo\\n\\n\")\n",
        "        resumo_formatado = textwrap.fill(noticia.resumo, width=80)\n",
        "        f.write(f\"{resumo_formatado}\\n\\n---\\n\\n\")"
      ]
    },
    {
      "cell_type": "markdown",
      "source": [
        "Imprime o conteúdo final do programa."
      ],
      "metadata": {
        "id": "TWf_5j0OVaDI"
      }
    },
    {
      "cell_type": "code",
      "execution_count": 36,
      "metadata": {
        "id": "TSg1k9KoYeOv",
        "colab": {
          "base_uri": "https://localhost:8080/",
          "height": 1000
        },
        "collapsed": true,
        "outputId": "17634d73-89a3-4876-ee6f-bf32d8262463"
      },
      "outputs": [
        {
          "output_type": "display_data",
          "data": {
            "text/plain": [
              "<IPython.core.display.Markdown object>"
            ],
            "text/markdown": "# Resumo de Todas as Notícias\n\n## Manhunt underway after 5 people injured in Kentucky shooting near Interstate 75, officials say\n\n**URL:** https://www.cnn.com/2024/09/07/us/kentucky-interstate-75-shooting/index.html\n\n**Fonte:** CNN\n\n**Categoria:** Crimes\n\n### Palavras-chave\n\nInterstate, autoridades, Kentucky, caçada, humana\n\n### Resumo\n\nUma caçada humana está em andamento após cinco pessoas terem sido feridas em um\ntiroteio perto da Interstate 75, no Kentucky. As autoridades estão procurando\npor um suspeito identificado como Joseph A. Couch, de 32 anos, que é considerado\n\"armado e perigoso\". O tiroteio ocorreu em uma área rural do condado de Laurel,\ncerca de 80 milhas ao sul de Lexington. As vítimas estão em estado estável e as\nautoridades estão pedindo que as pessoas se mantenham vigilantes e evitem a\nárea. O governador do Kentucky, Andy Beshear, disse que as autoridades estão\n\"ativamente monitorando a situação\" e oferecendo apoio.\n\n---\n\n## Resultados da Semana 2 do Futebol Americano Universitário: Oregon vence Boise State com um field goal no último segundo\n\n**URL:** https://sports.yahoo.com/live/college-football-week-2-scores-games-colorado-vs-nebraska-tennessee-vs-nc-state-and-more-150045723.html\n\n**Fonte:** Yahoo Sports\n\n**Categoria:** Esportes\n\n### Palavras-chave\n\nSemana, State, Futebol, Americano, Universitário\n\n### Resumo\n\nA Semana 2 do Futebol Americano Universitário foi marcada por várias partidas\nemocionantes. Oregon venceu Boise State com um field goal no último segundo,\nenquanto Texas derrotou Michigan por 31-12. Além disso, Northern Illinois\nsurpreendeu Notre Dame com uma vitória por 16-14, e USC venceu Utah State por\n48-0. Outras partidas notáveis incluíram a vitória de Kansas State sobre Tulane\ne a vitória de Oklahoma State sobre Arkansas em duplo tempo extra.\n\n---\n\n## Pai de atirador de escola é julgado após filho de 14 anos matar quatro pessoas em escola na Geórgia\n\n**URL:** https://www.washingtonpost.com/investigations/2024/09/07/apalachee-georgia-oxford-shooting/\n\n**Fonte:** The Washington Post\n\n**Categoria:** Crimes\n\n### Palavras-chave\n\nGeórgia, escola, Gray, matou, julgado\n\n### Resumo\n\nO pai de um atirador de escola de 14 anos que matou quatro pessoas em uma escola\nna Geórgia está sendo julgado. Colin Gray, 54 anos, é o pai de Colt Gray, que\nfoi acusado de quatro assassinatos. A promotora Karen McDonald havia debatido se\ndeveria processar os pais do atirador de Oxford High School, que matou quatro\nestudantes em 2021. A decisão de processar os pais é inédita e pode estabelecer\num precedente.\n\n---\n\n## Autoridades palestinas investigam morte de cidadã americana em protesto na Cisjordânia\n\n**URL:** https://www.washingtonpost.com/world/2024/09/07/israel-gaza-hamas-west-bank-aysenur-eygi-investigation/\n\n**Fonte:** The Washington Post\n\n**Categoria:** Crimes\n\n### Palavras-chave\n\nCisjordânia, Beita, Aysenur, Eygi, cidadã\n\n### Resumo\n\nAysenur Eygi, uma cidadã americana de 26 anos, foi morta em um protesto na\nCisjordânia, na cidade de Beita, após ser atingida por um tiro na cabeça\ndisparado por forças israelenses. As autoridades palestinas começaram a coletar\ndepoimentos de testemunhas para investigar o incidente. Eygi era uma ativista\nvoluntária que participava do protesto. A morte dela é o mais recente episódio\nde violência na região, que tem sido marcada por conflitos entre israelenses e\npalestinos.\n\n---\n\n## Aryna Sabalenka vence Jessica Pegula e conquista seu primeiro US Open\n\n**URL:** https://www.npr.org/2024/09/07/nx-s1-5104786/tennis-us-open-aryna-sabalenka-beats-jessica-pegula\n\n**Fonte:** NPR\n\n**Categoria:** Entretenimento\n\n### Palavras-chave\n\nSabalenka, Bielorrússia, EUA, Open, Jessica\n\n### Resumo\n\nAryna Sabalenka, da Bielorrússia, conquistou seu primeiro título do US Open\nfeminino ao derrotar Jessica Pegula, dos EUA, por 7-5, 7-5. Essa é a terceira\nvitória de Sabalenka em torneios Grand Slam. A vitória ocorreu no sábado, em\nNova York, e marca um importante momento na carreira de Sabalenka, que havia\nsido vice-campeã no ano anterior. Pegula, que estava disputando sua primeira\nfinal de Grand Slam, lutou até o fim, mas não conseguiu superar a habilidade de\nSabalenka.\n\n---\n\n"
          },
          "metadata": {}
        }
      ],
      "source": [
        "def exibir_md(arquivo: str):\n",
        "    # Ler o conteúdo do arquivo Markdown\n",
        "    with open(arquivo, 'r', encoding='utf-8') as f:\n",
        "        conteudo_md = f.read()\n",
        "\n",
        "    # Exibir o conteúdo do Markdown no Google Colab\n",
        "    display(Markdown(conteudo_md))\n",
        "\n",
        "exibir_md(\"resumo_noticias.md\")"
      ]
    }
  ],
  "metadata": {
    "colab": {
      "provenance": []
    },
    "kernelspec": {
      "display_name": "Python 3",
      "name": "python3"
    },
    "language_info": {
      "name": "python"
    },
    "widgets": {
      "application/vnd.jupyter.widget-state+json": {
        "3e556accf7644784a01d0b84bb4edba3": {
          "model_module": "@jupyter-widgets/controls",
          "model_name": "HBoxModel",
          "model_module_version": "1.5.0",
          "state": {
            "_dom_classes": [],
            "_model_module": "@jupyter-widgets/controls",
            "_model_module_version": "1.5.0",
            "_model_name": "HBoxModel",
            "_view_count": null,
            "_view_module": "@jupyter-widgets/controls",
            "_view_module_version": "1.5.0",
            "_view_name": "HBoxView",
            "box_style": "",
            "children": [
              "IPY_MODEL_6d8d160cf85e4e93af8fddc988034b27",
              "IPY_MODEL_085f21ec7c7840c9bb40b0b3fd38d598",
              "IPY_MODEL_95874b7e28874f629206798f83e58588"
            ],
            "layout": "IPY_MODEL_c1ae344315564499b5126a1629b765f3"
          }
        },
        "6d8d160cf85e4e93af8fddc988034b27": {
          "model_module": "@jupyter-widgets/controls",
          "model_name": "HTMLModel",
          "model_module_version": "1.5.0",
          "state": {
            "_dom_classes": [],
            "_model_module": "@jupyter-widgets/controls",
            "_model_module_version": "1.5.0",
            "_model_name": "HTMLModel",
            "_view_count": null,
            "_view_module": "@jupyter-widgets/controls",
            "_view_module_version": "1.5.0",
            "_view_name": "HTMLView",
            "description": "",
            "description_tooltip": null,
            "layout": "IPY_MODEL_38c1509af44e49bf9f9d93129232e2eb",
            "placeholder": "​",
            "style": "IPY_MODEL_839715959c9f4ee8aa0691439455d03c",
            "value": "Fetching 5 files: 100%"
          }
        },
        "085f21ec7c7840c9bb40b0b3fd38d598": {
          "model_module": "@jupyter-widgets/controls",
          "model_name": "FloatProgressModel",
          "model_module_version": "1.5.0",
          "state": {
            "_dom_classes": [],
            "_model_module": "@jupyter-widgets/controls",
            "_model_module_version": "1.5.0",
            "_model_name": "FloatProgressModel",
            "_view_count": null,
            "_view_module": "@jupyter-widgets/controls",
            "_view_module_version": "1.5.0",
            "_view_name": "ProgressView",
            "bar_style": "success",
            "description": "",
            "description_tooltip": null,
            "layout": "IPY_MODEL_06ac98f83d164a3e91a4799b22dd1770",
            "max": 5,
            "min": 0,
            "orientation": "horizontal",
            "style": "IPY_MODEL_9d081b514a2f4550bba5ff1e97b06c90",
            "value": 5
          }
        },
        "95874b7e28874f629206798f83e58588": {
          "model_module": "@jupyter-widgets/controls",
          "model_name": "HTMLModel",
          "model_module_version": "1.5.0",
          "state": {
            "_dom_classes": [],
            "_model_module": "@jupyter-widgets/controls",
            "_model_module_version": "1.5.0",
            "_model_name": "HTMLModel",
            "_view_count": null,
            "_view_module": "@jupyter-widgets/controls",
            "_view_module_version": "1.5.0",
            "_view_name": "HTMLView",
            "description": "",
            "description_tooltip": null,
            "layout": "IPY_MODEL_883f3af58dff43dea7b23f40783534e0",
            "placeholder": "​",
            "style": "IPY_MODEL_91e22f4180a24f07b2d9a44ad376758c",
            "value": " 5/5 [00:00&lt;00:00, 190.81it/s]"
          }
        },
        "c1ae344315564499b5126a1629b765f3": {
          "model_module": "@jupyter-widgets/base",
          "model_name": "LayoutModel",
          "model_module_version": "1.2.0",
          "state": {
            "_model_module": "@jupyter-widgets/base",
            "_model_module_version": "1.2.0",
            "_model_name": "LayoutModel",
            "_view_count": null,
            "_view_module": "@jupyter-widgets/base",
            "_view_module_version": "1.2.0",
            "_view_name": "LayoutView",
            "align_content": null,
            "align_items": null,
            "align_self": null,
            "border": null,
            "bottom": null,
            "display": null,
            "flex": null,
            "flex_flow": null,
            "grid_area": null,
            "grid_auto_columns": null,
            "grid_auto_flow": null,
            "grid_auto_rows": null,
            "grid_column": null,
            "grid_gap": null,
            "grid_row": null,
            "grid_template_areas": null,
            "grid_template_columns": null,
            "grid_template_rows": null,
            "height": null,
            "justify_content": null,
            "justify_items": null,
            "left": null,
            "margin": null,
            "max_height": null,
            "max_width": null,
            "min_height": null,
            "min_width": null,
            "object_fit": null,
            "object_position": null,
            "order": null,
            "overflow": null,
            "overflow_x": null,
            "overflow_y": null,
            "padding": null,
            "right": null,
            "top": null,
            "visibility": null,
            "width": null
          }
        },
        "38c1509af44e49bf9f9d93129232e2eb": {
          "model_module": "@jupyter-widgets/base",
          "model_name": "LayoutModel",
          "model_module_version": "1.2.0",
          "state": {
            "_model_module": "@jupyter-widgets/base",
            "_model_module_version": "1.2.0",
            "_model_name": "LayoutModel",
            "_view_count": null,
            "_view_module": "@jupyter-widgets/base",
            "_view_module_version": "1.2.0",
            "_view_name": "LayoutView",
            "align_content": null,
            "align_items": null,
            "align_self": null,
            "border": null,
            "bottom": null,
            "display": null,
            "flex": null,
            "flex_flow": null,
            "grid_area": null,
            "grid_auto_columns": null,
            "grid_auto_flow": null,
            "grid_auto_rows": null,
            "grid_column": null,
            "grid_gap": null,
            "grid_row": null,
            "grid_template_areas": null,
            "grid_template_columns": null,
            "grid_template_rows": null,
            "height": null,
            "justify_content": null,
            "justify_items": null,
            "left": null,
            "margin": null,
            "max_height": null,
            "max_width": null,
            "min_height": null,
            "min_width": null,
            "object_fit": null,
            "object_position": null,
            "order": null,
            "overflow": null,
            "overflow_x": null,
            "overflow_y": null,
            "padding": null,
            "right": null,
            "top": null,
            "visibility": null,
            "width": null
          }
        },
        "839715959c9f4ee8aa0691439455d03c": {
          "model_module": "@jupyter-widgets/controls",
          "model_name": "DescriptionStyleModel",
          "model_module_version": "1.5.0",
          "state": {
            "_model_module": "@jupyter-widgets/controls",
            "_model_module_version": "1.5.0",
            "_model_name": "DescriptionStyleModel",
            "_view_count": null,
            "_view_module": "@jupyter-widgets/base",
            "_view_module_version": "1.2.0",
            "_view_name": "StyleView",
            "description_width": ""
          }
        },
        "06ac98f83d164a3e91a4799b22dd1770": {
          "model_module": "@jupyter-widgets/base",
          "model_name": "LayoutModel",
          "model_module_version": "1.2.0",
          "state": {
            "_model_module": "@jupyter-widgets/base",
            "_model_module_version": "1.2.0",
            "_model_name": "LayoutModel",
            "_view_count": null,
            "_view_module": "@jupyter-widgets/base",
            "_view_module_version": "1.2.0",
            "_view_name": "LayoutView",
            "align_content": null,
            "align_items": null,
            "align_self": null,
            "border": null,
            "bottom": null,
            "display": null,
            "flex": null,
            "flex_flow": null,
            "grid_area": null,
            "grid_auto_columns": null,
            "grid_auto_flow": null,
            "grid_auto_rows": null,
            "grid_column": null,
            "grid_gap": null,
            "grid_row": null,
            "grid_template_areas": null,
            "grid_template_columns": null,
            "grid_template_rows": null,
            "height": null,
            "justify_content": null,
            "justify_items": null,
            "left": null,
            "margin": null,
            "max_height": null,
            "max_width": null,
            "min_height": null,
            "min_width": null,
            "object_fit": null,
            "object_position": null,
            "order": null,
            "overflow": null,
            "overflow_x": null,
            "overflow_y": null,
            "padding": null,
            "right": null,
            "top": null,
            "visibility": null,
            "width": null
          }
        },
        "9d081b514a2f4550bba5ff1e97b06c90": {
          "model_module": "@jupyter-widgets/controls",
          "model_name": "ProgressStyleModel",
          "model_module_version": "1.5.0",
          "state": {
            "_model_module": "@jupyter-widgets/controls",
            "_model_module_version": "1.5.0",
            "_model_name": "ProgressStyleModel",
            "_view_count": null,
            "_view_module": "@jupyter-widgets/base",
            "_view_module_version": "1.2.0",
            "_view_name": "StyleView",
            "bar_color": null,
            "description_width": ""
          }
        },
        "883f3af58dff43dea7b23f40783534e0": {
          "model_module": "@jupyter-widgets/base",
          "model_name": "LayoutModel",
          "model_module_version": "1.2.0",
          "state": {
            "_model_module": "@jupyter-widgets/base",
            "_model_module_version": "1.2.0",
            "_model_name": "LayoutModel",
            "_view_count": null,
            "_view_module": "@jupyter-widgets/base",
            "_view_module_version": "1.2.0",
            "_view_name": "LayoutView",
            "align_content": null,
            "align_items": null,
            "align_self": null,
            "border": null,
            "bottom": null,
            "display": null,
            "flex": null,
            "flex_flow": null,
            "grid_area": null,
            "grid_auto_columns": null,
            "grid_auto_flow": null,
            "grid_auto_rows": null,
            "grid_column": null,
            "grid_gap": null,
            "grid_row": null,
            "grid_template_areas": null,
            "grid_template_columns": null,
            "grid_template_rows": null,
            "height": null,
            "justify_content": null,
            "justify_items": null,
            "left": null,
            "margin": null,
            "max_height": null,
            "max_width": null,
            "min_height": null,
            "min_width": null,
            "object_fit": null,
            "object_position": null,
            "order": null,
            "overflow": null,
            "overflow_x": null,
            "overflow_y": null,
            "padding": null,
            "right": null,
            "top": null,
            "visibility": null,
            "width": null
          }
        },
        "91e22f4180a24f07b2d9a44ad376758c": {
          "model_module": "@jupyter-widgets/controls",
          "model_name": "DescriptionStyleModel",
          "model_module_version": "1.5.0",
          "state": {
            "_model_module": "@jupyter-widgets/controls",
            "_model_module_version": "1.5.0",
            "_model_name": "DescriptionStyleModel",
            "_view_count": null,
            "_view_module": "@jupyter-widgets/base",
            "_view_module_version": "1.2.0",
            "_view_name": "StyleView",
            "description_width": ""
          }
        }
      }
    }
  },
  "nbformat": 4,
  "nbformat_minor": 0
}